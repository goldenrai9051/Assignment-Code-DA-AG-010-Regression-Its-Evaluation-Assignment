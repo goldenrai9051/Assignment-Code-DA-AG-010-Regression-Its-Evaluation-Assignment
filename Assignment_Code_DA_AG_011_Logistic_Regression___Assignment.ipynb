{
  "nbformat": 4,
  "nbformat_minor": 0,
  "metadata": {
    "colab": {
      "provenance": []
    },
    "kernelspec": {
      "name": "python3",
      "display_name": "Python 3"
    },
    "language_info": {
      "name": "python"
    }
  },
  "cells": [
    {
      "cell_type": "markdown",
      "source": [
        "#Question 1:  What is Logistic Regression, and how does it differ from Linear Regression?"
      ],
      "metadata": {
        "id": "BDveWCnBPo1u"
      }
    },
    {
      "cell_type": "markdown",
      "source": [
        "##Answer:\n",
        "\n",
        "Logistic Regression is a statistical model used for classification tasks (e.g., predicting whether an email is spam or not). Instead of predicting continuous values like Linear Regression, Logistic Regression predicts the probability of an outcome belonging to a class (usually binary: 0 or 1).\n",
        "\n",
        "*   Linear Regression → predicts continuous values (e.g., house price).\n",
        "\n",
        "*   Logistic Regression → applies the sigmoid function to map values into a\n",
        "probability between 0 and 1, and then classifies based on a threshold (commonly 0.5)."
      ],
      "metadata": {
        "id": "cKJIcwjQR6nu"
      }
    },
    {
      "cell_type": "markdown",
      "source": [
        "#Question 2: Explain the role of the Sigmoid function in Logistic Regression."
      ],
      "metadata": {
        "id": "m_NYkYfCP9t1"
      }
    },
    {
      "cell_type": "markdown",
      "source": [
        "Answer:\n",
        "The Sigmoid function is defined as:\n",
        "\n",
        "\n",
        "\n",
        "![Screenshot 2025-09-17 211731.png](data:image/png;base64,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)\n",
        "It maps any real number to the range (0, 1).\n",
        "\n",
        "In Logistic Regression, it converts the linear combination of inputs (weights and features) into a probability score.\n",
        "\n",
        "Helps in classification because probabilities can be thresholded to assign class labels (e.g., >0.5 = class 1, otherwise class 0)."
      ],
      "metadata": {
        "id": "cwxZkvI7SJaf"
      }
    },
    {
      "cell_type": "markdown",
      "source": [
        "#Question 3: What is Regularization in Logistic Regression and why is it needed?"
      ],
      "metadata": {
        "id": "Xy7trt_BQAlS"
      }
    },
    {
      "cell_type": "markdown",
      "source": [
        "Answer:\n",
        "Regularization is a technique used to prevent overfitting by penalizing large coefficients in the model.\n",
        "\n",
        "*   L1 Regularization (Lasso): adds penalty proportional to absolute value of\n",
        "coefficients → can shrink some coefficients to zero (feature selection).\n",
        "\n",
        "*   L2 Regularization (Ridge): adds penalty proportional to squared value of coefficients → discourages large weights, spreads importance across features.\n",
        "\n",
        "Why needed?\n",
        "\n",
        "*   Prevents overfitting.\n",
        "\n",
        "*   Improves generalization to unseen data.\n",
        "\n",
        "*   Handles high-dimensional datasets better."
      ],
      "metadata": {
        "id": "OI-phBvaYav3"
      }
    },
    {
      "cell_type": "markdown",
      "source": [
        "#Question 4: What are some common evaluation metrics for classification models, and why are they important?"
      ],
      "metadata": {
        "id": "EU9PwneDQC7Q"
      }
    },
    {
      "cell_type": "markdown",
      "source": [
        "Answer:\n",
        "\n",
        "*   Accuracy: % of correct predictions. Simple but misleading on imbalanced datasets.\n",
        "\n",
        "*   Precision: Out of predicted positives, how many are actual positives.\n",
        "\n",
        "*   Recall (Sensitivity): Out of actual positives, how many were correctly predicted.\n",
        "\n",
        "*   F1-Score: Harmonic mean of Precision and Recall. Useful when dataset is imbalanced.\n",
        "\n",
        "*   ROC-AUC: Measures ability of model to distinguish between classes across thresholds.\n",
        "\n",
        "*   These metrics ensure we evaluate models beyond just accuracy, especially for imbalanced datasets."
      ],
      "metadata": {
        "id": "o7Kx1A58aYGK"
      }
    },
    {
      "cell_type": "markdown",
      "source": [
        "#Question 5: Write a Python program that loads a CSV file into a Pandas DataFrame, splits into train/test sets, trains a Logistic Regression model, and prints its accuracy.\n",
        "(Use Dataset from sklearn package)\n",
        "(Include your Python code and output in the code box below.)"
      ],
      "metadata": {
        "id": "O1yCJNRgQG4T"
      }
    },
    {
      "cell_type": "code",
      "source": [
        "import pandas as pd\n",
        "from sklearn.datasets import load_breast_cancer\n",
        "from sklearn.model_selection import train_test_split\n",
        "from sklearn.linear_model import LogisticRegression\n",
        "from sklearn.metrics import accuracy_score\n",
        "\n",
        "# Load dataset\n",
        "data = load_breast_cancer()\n",
        "X, y = data.data, data.target\n",
        "\n",
        "# Train-test split\n",
        "X_train, X_test, y_train, y_test = train_test_split(X, y, test_size=0.2, random_state=42)\n",
        "\n",
        "# Train Logistic Regression\n",
        "model = LogisticRegression(max_iter=5000)\n",
        "model.fit(X_train, y_train)\n",
        "\n",
        "# Predict & Accuracy\n",
        "y_pred = model.predict(X_test)\n",
        "print(\"Accuracy:\", accuracy_score(y_test, y_pred))\n"
      ],
      "metadata": {
        "colab": {
          "base_uri": "https://localhost:8080/"
        },
        "id": "EFjtTkjSau5F",
        "outputId": "cb56fdc1-5555-4081-ee1e-78d88ba4a3ab"
      },
      "execution_count": 1,
      "outputs": [
        {
          "output_type": "stream",
          "name": "stdout",
          "text": [
            "Accuracy: 0.956140350877193\n"
          ]
        }
      ]
    },
    {
      "cell_type": "markdown",
      "source": [
        "# Question 6:  Write a Python program to train a Logistic Regression model using L2 regularization (Ridge) and print the model coefficients and accuracy.\n",
        "(Use Dataset from sklearn package)\n",
        "(Include your Python code and output in the code box below.)"
      ],
      "metadata": {
        "id": "ucDvmkL5Rk6v"
      }
    },
    {
      "cell_type": "code",
      "source": [
        "model = LogisticRegression(penalty='l2', solver='lbfgs', max_iter=5000)\n",
        "model.fit(X_train, y_train)\n",
        "\n",
        "print(\"Model Coefficients:\", model.coef_)\n",
        "print(\"Accuracy:\", model.score(X_test, y_test))\n"
      ],
      "metadata": {
        "colab": {
          "base_uri": "https://localhost:8080/"
        },
        "id": "iQMh7aXKa7wA",
        "outputId": "b76749c0-dc52-4275-d79d-dca9328fb360"
      },
      "execution_count": 2,
      "outputs": [
        {
          "output_type": "stream",
          "name": "stdout",
          "text": [
            "Model Coefficients: [[ 1.0274368   0.22145051 -0.36213488  0.0254667  -0.15623532 -0.23771256\n",
            "  -0.53255786 -0.28369224 -0.22668189 -0.03649446 -0.09710208  1.3705667\n",
            "  -0.18140942 -0.08719575 -0.02245523  0.04736092 -0.04294784 -0.03240188\n",
            "  -0.03473732  0.01160522  0.11165329 -0.50887722 -0.01555395 -0.016857\n",
            "  -0.30773117 -0.77270908 -1.42859535 -0.51092923 -0.74689363 -0.10094404]]\n",
            "Accuracy: 0.956140350877193\n"
          ]
        }
      ]
    },
    {
      "cell_type": "markdown",
      "source": [
        "#Question 7: Write a Python program to train a Logistic Regression model for multiclass classification using multi_class='ovr' and print the classification report. (Use Dataset from sklearn package) (Include your Python code and output in the code box below.)"
      ],
      "metadata": {
        "id": "kDBPkfOdRo9N"
      }
    },
    {
      "cell_type": "code",
      "source": [
        "from sklearn.datasets import load_iris\n",
        "from sklearn.metrics import classification_report\n",
        "\n",
        "# Load multiclass dataset\n",
        "iris = load_iris()\n",
        "X, y = iris.data, iris.target\n",
        "\n",
        "X_train, X_test, y_train, y_test = train_test_split(X, y, test_size=0.2, random_state=42)\n",
        "\n",
        "# Train Logistic Regression (One-vs-Rest)\n",
        "model = LogisticRegression(multi_class='ovr', max_iter=5000)\n",
        "model.fit(X_train, y_train)\n",
        "\n",
        "y_pred = model.predict(X_test)\n",
        "print(classification_report(y_test, y_pred))\n"
      ],
      "metadata": {
        "colab": {
          "base_uri": "https://localhost:8080/"
        },
        "id": "nJbvBs4ibBJv",
        "outputId": "f855a7ac-768d-4daa-8766-76a608472aad"
      },
      "execution_count": 3,
      "outputs": [
        {
          "output_type": "stream",
          "name": "stdout",
          "text": [
            "              precision    recall  f1-score   support\n",
            "\n",
            "           0       1.00      1.00      1.00        10\n",
            "           1       1.00      0.89      0.94         9\n",
            "           2       0.92      1.00      0.96        11\n",
            "\n",
            "    accuracy                           0.97        30\n",
            "   macro avg       0.97      0.96      0.97        30\n",
            "weighted avg       0.97      0.97      0.97        30\n",
            "\n"
          ]
        },
        {
          "output_type": "stream",
          "name": "stderr",
          "text": [
            "/usr/local/lib/python3.12/dist-packages/sklearn/linear_model/_logistic.py:1256: FutureWarning: 'multi_class' was deprecated in version 1.5 and will be removed in 1.7. Use OneVsRestClassifier(LogisticRegression(..)) instead. Leave it to its default value to avoid this warning.\n",
            "  warnings.warn(\n"
          ]
        }
      ]
    },
    {
      "cell_type": "markdown",
      "source": [
        "#Question 8: Write a Python program to apply GridSearchCV to tune C and penalty hyperparameters for Logistic Regression and print the best parameters and validation accuracy. (Use Dataset from sklearn package) (Include your Python code and output in the code box below.)"
      ],
      "metadata": {
        "id": "8PoorTM3RtjF"
      }
    },
    {
      "cell_type": "code",
      "source": [
        "from sklearn.model_selection import GridSearchCV\n",
        "\n",
        "param_grid = {\n",
        "    'C': [0.01, 0.1, 1, 10],\n",
        "    'penalty': ['l1', 'l2'],\n",
        "    'solver': ['liblinear']  # supports both l1 & l2\n",
        "}\n",
        "\n",
        "grid = GridSearchCV(LogisticRegression(max_iter=5000), param_grid, cv=5, scoring='accuracy')\n",
        "grid.fit(X_train, y_train)\n",
        "\n",
        "print(\"Best Parameters:\", grid.best_params_)\n",
        "print(\"Best Validation Accuracy:\", grid.best_score_)\n"
      ],
      "metadata": {
        "colab": {
          "base_uri": "https://localhost:8080/"
        },
        "id": "qejoffewbFyJ",
        "outputId": "870c1435-97ae-48e2-dfd6-a298ab3b9757"
      },
      "execution_count": 4,
      "outputs": [
        {
          "output_type": "stream",
          "name": "stdout",
          "text": [
            "Best Parameters: {'C': 10, 'penalty': 'l1', 'solver': 'liblinear'}\n",
            "Best Validation Accuracy: 0.9583333333333334\n"
          ]
        }
      ]
    },
    {
      "cell_type": "markdown",
      "source": [
        "#Question 9: Write a Python program to standardize the features before training Logistic Regression and compare the model's accuracy with and without scaling. (Use Dataset from sklearn package) (Include your Python code and output in the code box below.)"
      ],
      "metadata": {
        "id": "hQkw2qqgRv-L"
      }
    },
    {
      "cell_type": "code",
      "source": [
        "from sklearn.preprocessing import StandardScaler\n",
        "\n",
        "# Without scaling\n",
        "model = LogisticRegression(max_iter=5000)\n",
        "model.fit(X_train, y_train)\n",
        "print(\"Accuracy without scaling:\", model.score(X_test, y_test))\n",
        "\n",
        "# With scaling\n",
        "scaler = StandardScaler()\n",
        "X_train_scaled = scaler.fit_transform(X_train)\n",
        "X_test_scaled = scaler.transform(X_test)\n",
        "\n",
        "model_scaled = LogisticRegression(max_iter=5000)\n",
        "model_scaled.fit(X_train_scaled, y_train)\n",
        "print(\"Accuracy with scaling:\", model_scaled.score(X_test_scaled, y_test))\n"
      ],
      "metadata": {
        "colab": {
          "base_uri": "https://localhost:8080/"
        },
        "id": "x5AeqmcnbIfc",
        "outputId": "03a3084c-94d8-4e6f-bce5-eef17aac1903"
      },
      "execution_count": 5,
      "outputs": [
        {
          "output_type": "stream",
          "name": "stdout",
          "text": [
            "Accuracy without scaling: 1.0\n",
            "Accuracy with scaling: 1.0\n"
          ]
        }
      ]
    },
    {
      "cell_type": "markdown",
      "source": [
        "#Question 10: Imagine you are working at an e-commerce company that wants to predict which customers will respond to a marketing campaign. Given an imbalanced dataset (only 5% of customers respond), describe the approach you’d take to build a Logistic Regression model — including data handling, feature scaling, balancing classes, hyperparameter tuning, and evaluating the model for this real-world business use case.\n"
      ],
      "metadata": {
        "id": "jSF8i_BZRwu7"
      }
    },
    {
      "cell_type": "markdown",
      "source": [
        "Answer:\n",
        "\n",
        "For predicting customer response (only 5% positive response):\n",
        "\n",
        "###1.  Data Handling & Feature Engineering\n",
        "\n",
        "*  Clean missing values, encode categorical variables, normalize skewed features.\n",
        "\n",
        "*  Derive useful features (e.g., past purchases, browsing behavior, demographics).\n",
        "\n",
        "###2.  Feature Scaling\n",
        "\n",
        "*  Standardize features (important for Logistic Regression).\n",
        "\n",
        "###3.  Balancing Classes\n",
        "\n",
        "* Since only 5% respond → dataset is highly imbalanced.\n",
        "\n",
        "*  Use SMOTE (oversampling), undersampling, or class_weight='balanced' in Logistic Regression.\n",
        "\n",
        "###4.  Model Training & Hyperparameter Tuning\n",
        "\n",
        "*  Use Logistic Regression with L1/L2 regularization.\n",
        "\n",
        "*  Tune C (regularization strength) using GridSearchCV or RandomizedSearchCV.\n",
        "\n",
        "###5.  Evaluation Metrics\n",
        "\n",
        "*  Accuracy is misleading.\n",
        "\n",
        "*  Use Precision, Recall, F1-score, ROC-AUC, PR-AUC (important for imbalanced problems).\n",
        "\n",
        "*  Business may prefer high Recall (catch more responders) or high Precision (reduce marketing cost).\n",
        "\n",
        "###6.  Deployment Strategy\n",
        "\n",
        "*  Continuously monitor model drift.\n",
        "\n",
        "*  Re-train with new data."
      ],
      "metadata": {
        "id": "rgU--NNnbPPw"
      }
    }
  ]
}