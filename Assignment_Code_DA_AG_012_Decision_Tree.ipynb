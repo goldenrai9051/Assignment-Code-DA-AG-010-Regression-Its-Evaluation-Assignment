{
  "nbformat": 4,
  "nbformat_minor": 0,
  "metadata": {
    "colab": {
      "provenance": []
    },
    "kernelspec": {
      "name": "python3",
      "display_name": "Python 3"
    },
    "language_info": {
      "name": "python"
    }
  },
  "cells": [
    {
      "cell_type": "markdown",
      "source": [
        "Question 1:  What is a Decision Tree, and how does it work in the context of classification?"
      ],
      "metadata": {
        "id": "r0mSL_Q5EYUl"
      }
    },
    {
      "cell_type": "markdown",
      "source": [
        "A Decision Tree is a supervised learning algorithm used for both classification and regression tasks.\n",
        "\n",
        "*  It splits the dataset into smaller subsets based on feature values.\n",
        "\n",
        "\n",
        "\n",
        "\n",
        "\n",
        "*  Each internal node represents a decision on a feature.\n",
        "\n",
        "*  Each branch represents the outcome of the decision.\n",
        "\n",
        "*  Each leaf node represents a final prediction (class label for classification, numerical value for regression).\n",
        "\n",
        "🔹 How it works in classification:\n",
        "\n",
        "*  The algorithm selects the \"best\" feature to split data (using criteria like Gini Impurity or Entropy).\n",
        "\n",
        "*  This process is repeated recursively, creating a tree structure until stopping conditions are met (e.g., maximum depth, pure nodes).\n",
        "\n",
        "*  At prediction time, a new instance is passed down the tree until it reaches a leaf, where the class label is assigned."
      ],
      "metadata": {
        "id": "Xmy-j5wQKdkg"
      }
    },
    {
      "cell_type": "markdown",
      "source": [
        "Question 2: Explain the concepts of Gini Impurity and Entropy as impurity measures.\n",
        "How do they impact the splits in a Decision Tree?"
      ],
      "metadata": {
        "id": "x7ZZdKEWFsE9"
      }
    },
    {
      "cell_type": "markdown",
      "source": [
        "# 1. Gini Impurity\n",
        "\n",
        "Formula:\n",
        "\n",
        "![image.png](data:image/png;base64,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)\n",
        "\t​\n",
        "\n",
        "\n",
        "where\n",
        "𝑝𝑖 = probability of class i.\n",
        "\n",
        "*  It measures the likelihood of incorrect classification if a sample was randomly labeled according to the class distribution.\n",
        "\n",
        "# 2. Entropy (used in Information Gain)\n",
        "\n",
        "Formula:\n",
        " ![image.png](data:image/png;base64,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)\n",
        "*  It measures the level of disorder or uncertainty in the dataset.\n",
        "\n",
        "🔹 Impact on Splits:\n",
        "\n",
        "*  Both are used to evaluate “purity” after a split.\n",
        "\n",
        "*  The algorithm chooses the split that reduces impurity the most.\n",
        "\n",
        "*  Gini is faster to compute; Entropy is more theoretical (linked to Information Theory)."
      ],
      "metadata": {
        "id": "KInXbuzoKxl6"
      }
    },
    {
      "cell_type": "markdown",
      "source": [
        "Question 3: What is the difference between Pre-Pruning and Post-Pruning in Decision\n",
        "Trees? Give one practical advantage of using each."
      ],
      "metadata": {
        "id": "fXe_8mIZFwC2"
      }
    },
    {
      "cell_type": "markdown",
      "source": [
        "###Pre-Pruning (Early Stopping):\n",
        "*   Stop the tree from growing too deep (e.g., set max_depth, min_samples_split).\n",
        "*       Advantage: Prevents overfitting early, faster training.\n",
        "\n",
        "### Post-Pruning (Reduced Error Pruning):\n",
        "*  Build a full tree first, then prune unnecessary branches using validation set performance.\n",
        "*       Advantage: Often results in better generalization since pruning is based on evidence."
      ],
      "metadata": {
        "id": "PvCNV3DhMHhg"
      }
    },
    {
      "cell_type": "markdown",
      "source": [
        "Question 4: What is Information Gain in Decision Trees, and why is it important for\n",
        "choosing the best split?"
      ],
      "metadata": {
        "id": "0SlYWrfmGNZ8"
      }
    },
    {
      "cell_type": "markdown",
      "source": [
        "###Information Gain (IG): Measures the reduction in entropy after a dataset split.\n",
        "\n",
        "![image.png](data:image/png;base64,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)\n",
        "\n",
        "#   Importance:\n",
        "\n",
        "*  Helps decide the best feature to split on.\n",
        "\n",
        "*  Higher IG = better separation of classes.\n",
        "\n",
        "*  Ensures tree grows in a way that maximizes predictive power."
      ],
      "metadata": {
        "id": "yRLs__FGMipX"
      }
    },
    {
      "cell_type": "markdown",
      "source": [
        "Question 5: What are some common real-world applications of Decision Trees, and\n",
        "what are their main advantages and limitations?"
      ],
      "metadata": {
        "id": "T1iyZBAZGPj4"
      }
    },
    {
      "cell_type": "markdown",
      "source": [
        "###Applications:\n",
        "\n",
        "* Healthcare: Disease diagnosis.\n",
        "\n",
        "* Finance: Credit risk scoring.\n",
        "\n",
        "* Retail: Customer segmentation.\n",
        "\n",
        "* Manufacturing: Quality control.\n",
        "\n",
        "###Advantages:\n",
        "\n",
        "* Easy to interpret.\n",
        "\n",
        "* Handles both categorical & numerical data.\n",
        "\n",
        "* No need for feature scaling.\n",
        "\n",
        "###Limitations:\n",
        "\n",
        "* Can easily overfit.\n",
        "\n",
        "* Sensitive to small data changes.\n",
        "\n",
        "* Greedy algorithm (locally optimal, not globally)."
      ],
      "metadata": {
        "id": "m_Zb6-LLNA0v"
      }
    },
    {
      "cell_type": "markdown",
      "source": [
        "**Dataset Info:**\n",
        "\n",
        "**● Iris Dataset for classification tasks (sklearn.datasets.load_iris() or\n",
        "provided CSV).**\n",
        "\n",
        "● **Boston Housing Dataset for regression tasks\n",
        "(sklearn.datasets.load_boston() or provided CSV).**"
      ],
      "metadata": {
        "id": "wxKrBfMYGRtm"
      }
    },
    {
      "cell_type": "markdown",
      "source": [
        "Question 6:   Write a Python program to:\n",
        "\n",
        "● Load the Iris Dataset\n",
        "\n",
        "● Train a Decision Tree Classifier using the Gini criterion\n",
        "\n",
        "● Print the model’s accuracy and feature importances\n",
        "\n",
        "(Include your Python code and output in the code box below.)"
      ],
      "metadata": {
        "id": "FpK6TFcUGadE"
      }
    },
    {
      "cell_type": "code",
      "source": [
        "from sklearn.datasets import load_iris\n",
        "from sklearn.tree import DecisionTreeClassifier\n",
        "from sklearn.model_selection import train_test_split\n",
        "from sklearn.metrics import accuracy_score\n",
        "\n",
        "# Load dataset\n",
        "iris = load_iris()\n",
        "X, y = iris.data, iris.target\n",
        "\n",
        "# Train-test split\n",
        "X_train, X_test, y_train, y_test = train_test_split(X, y, test_size=0.3, random_state=42)\n",
        "\n",
        "# Train Decision Tree with Gini\n",
        "clf = DecisionTreeClassifier(criterion=\"gini\", random_state=42)\n",
        "clf.fit(X_train, y_train)\n",
        "\n",
        "# Accuracy\n",
        "y_pred = clf.predict(X_test)\n",
        "print(\"Accuracy:\", accuracy_score(y_test, y_pred))\n",
        "\n",
        "# Feature importances\n",
        "print(\"Feature Importances:\", clf.feature_importances_)\n"
      ],
      "metadata": {
        "colab": {
          "base_uri": "https://localhost:8080/"
        },
        "id": "ztP-ufMaNdY9",
        "outputId": "8eb7d993-5ec6-4178-b7df-70a491271b6b"
      },
      "execution_count": 1,
      "outputs": [
        {
          "output_type": "stream",
          "name": "stdout",
          "text": [
            "Accuracy: 1.0\n",
            "Feature Importances: [0.         0.01911002 0.89326355 0.08762643]\n"
          ]
        }
      ]
    },
    {
      "cell_type": "markdown",
      "source": [
        "Question 7:  Write a Python program to:\n",
        "\n",
        "● Load the Iris Dataset\n",
        "\n",
        "● Train a Decision Tree Classifier with max_depth=3 and compare its accuracy to\n",
        "a fully-grown tree.\n",
        "\n",
        "(Include your Python code and output in the code box below.)"
      ],
      "metadata": {
        "id": "_eq1IlopGdsH"
      }
    },
    {
      "cell_type": "code",
      "source": [
        "# Fully grown tree\n",
        "clf_full = DecisionTreeClassifier(random_state=42)\n",
        "clf_full.fit(X_train, y_train)\n",
        "acc_full = accuracy_score(y_test, clf_full.predict(X_test))\n",
        "\n",
        "# Pruned tree\n",
        "clf_pruned = DecisionTreeClassifier(max_depth=3, random_state=42)\n",
        "clf_pruned.fit(X_train, y_train)\n",
        "acc_pruned = accuracy_score(y_test, clf_pruned.predict(X_test))\n",
        "\n",
        "print(\"Full Tree Accuracy:\", acc_full)\n",
        "print(\"Pruned Tree Accuracy:\", acc_pruned)\n"
      ],
      "metadata": {
        "colab": {
          "base_uri": "https://localhost:8080/"
        },
        "id": "TUxn4IWINkFf",
        "outputId": "fda71312-20ed-45bb-ce9d-317f2d0b66ab"
      },
      "execution_count": 2,
      "outputs": [
        {
          "output_type": "stream",
          "name": "stdout",
          "text": [
            "Full Tree Accuracy: 1.0\n",
            "Pruned Tree Accuracy: 1.0\n"
          ]
        }
      ]
    },
    {
      "cell_type": "markdown",
      "source": [
        "Question 8: Write a Python program to:\n",
        "\n",
        "● Load the California Housing dataset from sklearn\n",
        "\n",
        "● Train a Decision Tree Regressor\n",
        "\n",
        "● Print the Mean Squared Error (MSE) and feature importances\n",
        "\n",
        "(Include your Python code and output in the code box below.)"
      ],
      "metadata": {
        "id": "jYrcbLQFGgM2"
      }
    },
    {
      "cell_type": "code",
      "source": [
        "from sklearn.datasets import fetch_california_housing\n",
        "from sklearn.tree import DecisionTreeRegressor\n",
        "from sklearn.metrics import mean_squared_error\n",
        "from sklearn.model_selection import train_test_split\n",
        "\n",
        "# Load dataset\n",
        "housing = fetch_california_housing()\n",
        "X, y = housing.data, housing.target\n",
        "\n",
        "# Train-test split\n",
        "X_train, X_test, y_train, y_test = train_test_split(X, y, test_size=0.3, random_state=42)\n",
        "\n",
        "# Train model\n",
        "reg = DecisionTreeRegressor(random_state=42)\n",
        "reg.fit(X_train, y_train)\n",
        "\n",
        "# Predictions\n",
        "y_pred = reg.predict(X_test)\n",
        "\n",
        "print(\"MSE:\", mean_squared_error(y_test, y_pred))\n",
        "print(\"Feature Importances:\", reg.feature_importances_)\n"
      ],
      "metadata": {
        "colab": {
          "base_uri": "https://localhost:8080/"
        },
        "id": "jhfl_R9GNoGJ",
        "outputId": "a830c7e1-0590-4450-bbdc-9dd464af1bd6"
      },
      "execution_count": 3,
      "outputs": [
        {
          "output_type": "stream",
          "name": "stdout",
          "text": [
            "MSE: 0.5280096503174904\n",
            "Feature Importances: [0.52345628 0.05213495 0.04941775 0.02497426 0.03220553 0.13901245\n",
            " 0.08999238 0.08880639]\n"
          ]
        }
      ]
    },
    {
      "cell_type": "markdown",
      "source": [
        "Question 9: Write a Python program to:\n",
        "\n",
        "● Load the Iris Dataset\n",
        "\n",
        "● Tune the Decision Tree’s max_depth and min_samples_split using\n",
        "GridSearchCV\n",
        "\n",
        "● Print the best parameters and the resulting model accuracy\n",
        "\n",
        "(Include your Python code and output in the code box below.)"
      ],
      "metadata": {
        "id": "fNSlGU8GGiRr"
      }
    },
    {
      "cell_type": "code",
      "source": [
        "from sklearn.datasets import load_iris\n",
        "from sklearn.tree import DecisionTreeClassifier\n",
        "from sklearn.model_selection import train_test_split, GridSearchCV\n",
        "from sklearn.metrics import accuracy_score\n",
        "\n",
        "# Load the Iris dataset\n",
        "iris = load_iris()\n",
        "X, y = iris.data, iris.target   # y is categorical (0,1,2)\n",
        "\n",
        "# Train-test split\n",
        "X_train, X_test, y_train, y_test = train_test_split(\n",
        "    X, y, test_size=0.3, random_state=42\n",
        ")\n",
        "\n",
        "# Define parameter grid\n",
        "param_grid = {\n",
        "    \"max_depth\": [2, 3, 4, 5, None],\n",
        "    \"min_samples_split\": [2, 5, 10]\n",
        "}\n",
        "\n",
        "# Grid search with Decision Tree Classifier\n",
        "grid = GridSearchCV(\n",
        "    DecisionTreeClassifier(random_state=42),\n",
        "    param_grid,\n",
        "    cv=5\n",
        ")\n",
        "\n",
        "grid.fit(X_train, y_train)\n",
        "\n",
        "# Best parameters and accuracy\n",
        "print(\"Best Parameters:\", grid.best_params_)\n",
        "print(\"Best CV Accuracy:\", grid.best_score_)\n",
        "\n",
        "# Evaluate on test set\n",
        "y_pred = grid.best_estimator_.predict(X_test)\n",
        "print(\"Test Accuracy:\", accuracy_score(y_test, y_pred))\n",
        "\n"
      ],
      "metadata": {
        "colab": {
          "base_uri": "https://localhost:8080/"
        },
        "id": "TPrtJLdUNrzN",
        "outputId": "4772c798-b45f-4b67-c0e2-f449e74cfd15"
      },
      "execution_count": 5,
      "outputs": [
        {
          "output_type": "stream",
          "name": "stdout",
          "text": [
            "Best Parameters: {'max_depth': 4, 'min_samples_split': 10}\n",
            "Best CV Accuracy: 0.9428571428571428\n",
            "Test Accuracy: 1.0\n"
          ]
        }
      ]
    },
    {
      "cell_type": "markdown",
      "source": [
        "Question 10: Imagine you’re working as a data scientist for a healthcare company that\n",
        "wants to predict whether a patient has a certain disease.\n",
        "\n",
        "You have a large dataset with\n",
        "mixed data types and some missing values.\n",
        "\n",
        "Explain the step-by-step process you would follow to:\n",
        "\n",
        "● Handle the missing values\n",
        "\n",
        "● Encode the categorical features\n",
        "\n",
        "● Train a Decision Tree model\n",
        "\n",
        "● Tune its hyperparameters\n",
        "\n",
        "● Evaluate its performance\n",
        "\n",
        "And describe what business value this model could provide in the real-world\n",
        "setting."
      ],
      "metadata": {
        "id": "GEJwVEelGlXg"
      }
    },
    {
      "cell_type": "markdown",
      "source": [
        "## Step-by-step process:\n",
        "\n",
        "####1. Handle Missing Values\n",
        "\n",
        "    *  Numerical: Impute with mean/median.\n",
        "\n",
        "    *  Categorical: Impute with mode or \"Unknown\" category.\n",
        "\n",
        "####2. Encode Categorical Features\n",
        "\n",
        "    * Use One-Hot Encoding (for nominal data).\n",
        "\n",
        "    * Use Ordinal Encoding (for ordered categories).\n",
        "\n",
        "####3. Train Decision Tree Model\n",
        "\n",
        "    * Choose `criterion=\"gini\"` or `\"entropy\"` .\n",
        "\n",
        "    * Split into training/test sets.\n",
        "\n",
        "####4. Hyperparameter Tuning\n",
        "\n",
        "Use GridSearchCV to optimize `max_depth` , `min_samples_split` , `min_samples_leaf` .\n",
        "\n",
        "####5. Evaluate Model\n",
        "\n",
        "Metrics: Accuracy, Precision, Recall, F1-score, ROC-AUC.\n",
        "\n",
        "##Business Value:\n",
        "\n",
        "   *  Helps in early disease detection.\n",
        "\n",
        "   *  Assists doctors in decision-making.\n",
        "\n",
        "   *  Reduces healthcare costs by identifying high-risk patients.\n",
        "\n",
        "   *  Improves patient outcomes through timely intervention."
      ],
      "metadata": {
        "id": "9UYF4pn3Nyh6"
      }
    }
  ]
}