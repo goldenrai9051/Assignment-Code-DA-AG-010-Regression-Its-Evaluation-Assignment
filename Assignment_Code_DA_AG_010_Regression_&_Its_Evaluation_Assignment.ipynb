{
  "nbformat": 4,
  "nbformat_minor": 0,
  "metadata": {
    "colab": {
      "provenance": []
    },
    "kernelspec": {
      "name": "python3",
      "display_name": "Python 3"
    },
    "language_info": {
      "name": "python"
    }
  },
  "cells": [
    {
      "cell_type": "markdown",
      "source": [
        "#Question 1: What is Simple Linear Regression?"
      ],
      "metadata": {
        "id": "u9biQdEzFS3R"
      }
    },
    {
      "cell_type": "markdown",
      "source": [
        "##Answer:\n",
        "Simple Linear Regression is a statistical method used to study the relationship between two variables: one independent (predictor) variable and one dependent (outcome) variable. It models this relationship with a straight line:\n",
        "\n",
        "𝑌 = 𝛽0+𝛽1𝑋+𝜖\n",
        "\n",
        "Where:\n",
        "\n",
        "*   Y: dependent variable\n",
        "\n",
        "*   X: independent variable\n",
        "\n",
        "*   β0: intercept\n",
        "\n",
        "*   β1: slope\n",
        "\n",
        "*   ϵ: error term"
      ],
      "metadata": {
        "id": "VHJoJ_HpHm1f"
      }
    },
    {
      "cell_type": "markdown",
      "source": [
        "#Question 2: What are the key assumptions of Simple Linear Regression?\n"
      ],
      "metadata": {
        "id": "rEYssuF2Fo26"
      }
    },
    {
      "cell_type": "markdown",
      "source": [
        "Answer:\n",
        "\n",
        "\n",
        "1.   Linearity – The relationship between X and Y is linear.\n",
        "\n",
        "2.   Independence – Observations are independent of each other.\n",
        "\n",
        "3.   Homoscedasticity – Constant variance of residuals (errors).\n",
        "\n",
        "4.   Normality of errors – Residuals follow a normal distribution.\n",
        "\n",
        "5.   No multicollinearity – (relevant in multiple regression)."
      ],
      "metadata": {
        "id": "c7kP5oXaI8uh"
      }
    },
    {
      "cell_type": "markdown",
      "source": [
        "#Question 3: What is heteroscedasticity, and why is it important to address in regression models?"
      ],
      "metadata": {
        "id": "GFH476J-FuR5"
      }
    },
    {
      "cell_type": "markdown",
      "source": [
        "Answer:\n",
        "\n",
        "Heteroscedasticity occurs when the variance of residuals (errors) is not constant across values of the independent variable(s).\n",
        "\n",
        "It is important because it Violates regression assumption of homoscedasticity.\n",
        "\n",
        "It Leads to inefficient estimates and unreliable hypothesis tests (p-values, confidence intervals).\n"
      ],
      "metadata": {
        "id": "PdkBX9dKJKjT"
      }
    },
    {
      "cell_type": "markdown",
      "source": [
        "#Question 4: What is Multiple Linear Regression?"
      ],
      "metadata": {
        "id": "KU7mkDtgFxep"
      }
    },
    {
      "cell_type": "markdown",
      "source": [
        "Multiple Linear Regression is an extension of simple linear regression that models the relationship between one dependent variable (Y) and two or more independent variables (X₁, X₂, …, Xₙ).\n",
        "\n",
        "###𝑌=𝛽0+𝛽1𝑋1+𝛽2𝑋2+⋯+𝛽𝑛𝑋𝑛+𝜖\n",
        "\n",
        "It helps capture more complex relationships compared to a single predictor."
      ],
      "metadata": {
        "id": "iaH1xRiDJ4Pl"
      }
    },
    {
      "cell_type": "markdown",
      "source": [
        "#Question 5: What is polynomial regression, and how does it differ from linear regression?"
      ],
      "metadata": {
        "id": "7EZx0uz2F1k_"
      }
    },
    {
      "cell_type": "markdown",
      "source": [
        "Answer:\n",
        "\n",
        "Polynomial Regression is a type of regression where the relationship between X and Y is modeled as an nth-degree polynomial:\n",
        "\n",
        "###𝑌=𝛽0+𝛽1𝑋+𝛽2𝑋2+⋯+𝛽𝑛𝑋𝑛+𝜖\n",
        "\n",
        "##Difference from Linear Regression:\n",
        "\n",
        "*   Linear regression fits a straight line.\n",
        "\n",
        "*   Polynomial regression fits a curved line (still linear in terms of coefficients)."
      ],
      "metadata": {
        "id": "-MnKUxU-L_Rw"
      }
    },
    {
      "cell_type": "markdown",
      "source": [
        "#Question 6: Implement a Python program to fit a Simple Linear Regression model to the following sample data:\n",
        "\n",
        "`● X = [1, 2, 3, 4, 5]`\n",
        "\n",
        "`● Y = [2.1, 4.3, 6.1, 7.9, 10.2]`\n",
        "\n",
        "#Plot the regression line over the data points.\n",
        "(Include your Python code and output in the code box below.)"
      ],
      "metadata": {
        "id": "GhE-uNNbF36r"
      }
    },
    {
      "cell_type": "code",
      "source": [
        "import numpy as np\n",
        "import matplotlib.pyplot as plt\n",
        "from sklearn.linear_model import LinearRegression\n",
        "\n",
        "# Data\n",
        "X = np.array([1, 2, 3, 4, 5]).reshape(-1, 1)\n",
        "Y = np.array([2.1, 4.3, 6.1, 7.9, 10.2])\n",
        "\n",
        "# Fit model\n",
        "model = LinearRegression()\n",
        "model.fit(X, Y)\n",
        "\n",
        "# Predictions\n",
        "Y_pred = model.predict(X)\n",
        "\n",
        "# Plot\n",
        "plt.scatter(X, Y, color='blue', label='Data Points')\n",
        "plt.plot(X, Y_pred, color='red', label='Regression Line')\n",
        "plt.xlabel('X')\n",
        "plt.ylabel('Y')\n",
        "plt.legend()\n",
        "plt.show()\n",
        "\n",
        "print(\"Intercept:\", model.intercept_)\n",
        "print(\"Slope:\", model.coef_[0])\n"
      ],
      "metadata": {
        "colab": {
          "base_uri": "https://localhost:8080/",
          "height": 484
        },
        "id": "nGzHodpwMd8B",
        "outputId": "67d5f4e6-8e14-4f94-adf7-4b73acde391b"
      },
      "execution_count": 1,
      "outputs": [
        {
          "output_type": "display_data",
          "data": {
            "text/plain": [
              "<Figure size 640x480 with 1 Axes>"
            ],
            "image/png": "[encoded data removed]"
          },
          "metadata": {}
        },
        {
          "output_type": "stream",
          "name": "stdout",
          "text": [
            "Intercept: 0.17999999999999794\n",
            "Slope: 1.9800000000000004\n"
          ]
        }
      ]
    },
    {
      "cell_type": "markdown",
      "source": [
        "#Question 7: Fit a Multiple Linear Regression model on this sample data:\n",
        "\n",
        "`● Area = [1200, 1500, 1800, 2000]`\n",
        "\n",
        "`● Rooms = [2, 3, 3, 4]`\n",
        "\n",
        "`● Price = [250000, 300000, 320000, 370000]`\n",
        "\n",
        "#Check for multicollinearity using VIF and report the results.\n",
        "(Include your Python code and output in the code box below.)"
      ],
      "metadata": {
        "id": "qPns11KjGJhH"
      }
    },
    {
      "cell_type": "code",
      "source": [
        "import numpy as np\n",
        "import pandas as pd\n",
        "from sklearn.linear_model import Ridge\n",
        "from sklearn.preprocessing import StandardScaler\n",
        "\n",
        "# Data\n",
        "Area = [1200, 1500, 1800, 2000]\n",
        "Rooms = [2, 3, 3, 4]\n",
        "Price = [250000, 300000, 320000, 370000]\n",
        "\n",
        "X = pd.DataFrame({'Area': Area, 'Rooms': Rooms})\n",
        "y = np.array(Price)\n",
        "\n",
        "# Standardize features (important for Ridge/Lasso)\n",
        "scaler = StandardScaler()\n",
        "X_scaled = scaler.fit_transform(X)\n",
        "\n",
        "# Fit Ridge regression (alpha controls regularization strength)\n",
        "ridge = Ridge(alpha=1.0)\n",
        "ridge.fit(X_scaled, y)\n",
        "\n",
        "# Predictions\n",
        "y_pred = ridge.predict(X_scaled)\n",
        "\n",
        "print(\"Intercept:\", ridge.intercept_)\n",
        "print(\"Coefficients:\", ridge.coef_)\n",
        "print(\"Predicted Prices:\", y_pred)\n"
      ],
      "metadata": {
        "colab": {
          "base_uri": "https://localhost:8080/"
        },
        "id": "K_d5S1i5MiGa",
        "outputId": "d7a9612b-81bc-48e3-bbb4-9606d407ba57"
      },
      "execution_count": 5,
      "outputs": [
        {
          "output_type": "stream",
          "name": "stdout",
          "text": [
            "Intercept: 310000.0\n",
            "Coefficients: [18778.9651171  19922.41846932]\n",
            "Predicted Prices: [255494.77566073 302255.68531039 320842.04056546 361407.49846343]\n"
          ]
        }
      ]
    },
    {
      "cell_type": "markdown",
      "source": [
        "#Question 8: Implement polynomial regression on the following data:\n",
        "\n",
        "`● X = [1, 2, 3, 4, 5]`\n",
        "\n",
        "`● Y = [2.2, 4.8, 7.5, 11.2, 14.7]`\n",
        "\n",
        "#Fit a 2nd-degree polynomial and plot the resulting curve.\n",
        "# (Include your Python code and output in the code box below.)"
      ],
      "metadata": {
        "id": "Wlz_4bL7GXru"
      }
    },
    {
      "cell_type": "code",
      "source": [
        "from sklearn.preprocessing import PolynomialFeatures\n",
        "\n",
        "# Data\n",
        "X = np.array([1, 2, 3, 4, 5]).reshape(-1, 1)\n",
        "Y = np.array([2.2, 4.8, 7.5, 11.2, 14.7])\n",
        "\n",
        "# Polynomial features (degree=2)\n",
        "poly = PolynomialFeatures(degree=2)\n",
        "X_poly = poly.fit_transform(X)\n",
        "\n",
        "# Fit model\n",
        "model = LinearRegression()\n",
        "model.fit(X_poly, Y)\n",
        "Y_pred = model.predict(X_poly)\n",
        "\n",
        "# Plot\n",
        "plt.scatter(X, Y, color='blue', label='Data Points')\n",
        "plt.plot(X, Y_pred, color='red', label='Polynomial Fit')\n",
        "plt.xlabel('X')\n",
        "plt.ylabel('Y')\n",
        "plt.legend()\n",
        "plt.show()\n",
        "\n",
        "print(\"Coefficients:\", model.coef_)\n",
        "print(\"Intercept:\", model.intercept_)\n"
      ],
      "metadata": {
        "colab": {
          "base_uri": "https://localhost:8080/",
          "height": 484
        },
        "id": "lm9tTLz7Mn88",
        "outputId": "3151c260-a8a2-4764-af00-f5617738449b"
      },
      "execution_count": 3,
      "outputs": [
        {
          "output_type": "display_data",
          "data": {
            "text/plain": [
              "<Figure size 640x480 with 1 Axes>"
            ],
            "image/png": "[encoded data removed]"
          },
          "metadata": {}
        },
        {
          "output_type": "stream",
          "name": "stdout",
          "text": [
            "Coefficients: [0.   1.94 0.2 ]\n",
            "Intercept: 0.06000000000000938\n"
          ]
        }
      ]
    },
    {
      "cell_type": "markdown",
      "source": [
        "#Question 9: Create a residuals plot for a regression model trained on this data:\n",
        "\n",
        "`● X = [10, 20, 30, 40, 50]`\n",
        "`● Y = [15, 35, 40, 50, 65]`\n",
        "\n",
        "##Assess heteroscedasticity by examining the spread of residuals.\n",
        "\n",
        "(Include your Python code and output in the code box below.)\n"
      ],
      "metadata": {
        "id": "j4r-mi4jGlkP"
      }
    },
    {
      "cell_type": "code",
      "source": [
        "# Data\n",
        "X = np.array([10, 20, 30, 40, 50]).reshape(-1, 1)\n",
        "Y = np.array([15, 35, 40, 50, 65])\n",
        "\n",
        "# Fit model\n",
        "model = LinearRegression()\n",
        "model.fit(X, Y)\n",
        "Y_pred = model.predict(X)\n",
        "\n",
        "# Residuals\n",
        "residuals = Y - Y_pred\n",
        "\n",
        "# Plot residuals\n",
        "plt.scatter(X, residuals, color='blue')\n",
        "plt.axhline(y=0, color='red', linestyle='--')\n",
        "plt.xlabel('X')\n",
        "plt.ylabel('Residuals')\n",
        "plt.title('Residuals Plot')\n",
        "plt.show()\n",
        "\n",
        "print(\"Residuals:\", residuals)\n"
      ],
      "metadata": {
        "colab": {
          "base_uri": "https://localhost:8080/",
          "height": 489
        },
        "id": "3PMC8-3YMqWC",
        "outputId": "a87aed47-5520-4953-e90a-93eb4a178e3f"
      },
      "execution_count": 4,
      "outputs": [
        {
          "output_type": "display_data",
          "data": {
            "text/plain": [
              "<Figure size 640x480 with 1 Axes>"
            ],
            "image/png": "[encoded data removed]"
          },
          "metadata": {}
        },
        {
          "output_type": "stream",
          "name": "stdout",
          "text": [
            "Residuals: [-3.   5.5 -1.  -2.5  1. ]\n"
          ]
        }
      ]
    },
    {
      "cell_type": "markdown",
      "source": [
        "#Question 10: Imagine you are a data scientist working for a real estate company. You need to predict house prices using features like area, number of rooms, and location. However, you detect **heteroscedasticity** and **multicollinearity** in your regression model. Explain the steps you would take to address these issues and ensure a robust model."
      ],
      "metadata": {
        "id": "bwAqb_ucGtSF"
      }
    },
    {
      "cell_type": "markdown",
      "source": [
        "Answer:\n",
        "\n",
        "###To build a robust house price prediction model:\n",
        "\n",
        "##1.   Address Heteroscedasticity\n",
        "\n",
        "  *   Apply log transformation on dependent variable (Price).\n",
        "\n",
        "  *   Use Weighted Least Squares (WLS) regression.\n",
        "\n",
        "*   Apply robust standard errors to correct inference.\n",
        "\n",
        "##2.   Address Multicollinearity\n",
        "\n",
        "*   Calculate VIF and remove highly correlated predictors.\n",
        "\n",
        "*   Use Principal Component Analysis (PCA) or Ridge/Lasso regression.\n",
        "\n",
        "*   Keep only the most meaningful independent variables.\n",
        "\n",
        "##3.   Final Steps\n",
        "\n",
        "*   Split data into train/test sets.\n",
        "\n",
        "*   Cross-validate the model.\n",
        "\n",
        "*   Evaluate using metrics like R², RMSE, MAE."
      ],
      "metadata": {
        "id": "j70ie3miMzDW"
      }
    }
  ]
}